{
  "nbformat": 4,
  "nbformat_minor": 0,
  "metadata": {
    "colab": {
      "provenance": []
    },
    "kernelspec": {
      "name": "python3",
      "display_name": "Python 3"
    },
    "language_info": {
      "name": "python"
    }
  },
  "cells": [
    {
      "cell_type": "markdown",
      "metadata": {
        "id": "OLqLzWYBvKSZ"
      },
      "source": [
        "# Lets convert the model to tensorflow Lite model"
      ]
    },
    {
      "cell_type": "markdown",
      "source": [
        "> #### Downsizing the RNN model"
      ],
      "metadata": {
        "id": "xUTsTNmZxYWk"
      }
    },
    {
      "cell_type": "code",
      "execution_count": null,
      "metadata": {
        "id": "69k4o0DDvKSZ",
        "outputId": "2d6ca5b7-90fb-49e8-88d8-a896c0de12e4"
      },
      "outputs": [
        {
          "name": "stdout",
          "output_type": "stream",
          "text": [
            "INFO:tensorflow:Assets written to: C:\\Users\\GAUTHA~1\\AppData\\Local\\Temp\\tmpfdn8hvny\\assets\n"
          ]
        },
        {
          "name": "stderr",
          "output_type": "stream",
          "text": [
            "INFO:tensorflow:Assets written to: C:\\Users\\GAUTHA~1\\AppData\\Local\\Temp\\tmpfdn8hvny\\assets\n"
          ]
        },
        {
          "name": "stdout",
          "output_type": "stream",
          "text": [
            "Saved artifact at 'C:\\Users\\GAUTHA~1\\AppData\\Local\\Temp\\tmpfdn8hvny'. The following endpoints are available:\n",
            "\n",
            "* Endpoint 'serve'\n",
            "  args_0 (POSITIONAL_ONLY): TensorSpec(shape=(None, 50, 6), dtype=tf.float32, name='keras_tensor_15')\n",
            "Output Type:\n",
            "  TensorSpec(shape=(None, 13), dtype=tf.float32, name=None)\n",
            "Captures:\n",
            "  2649827792400: TensorSpec(shape=(), dtype=tf.resource, name=None)\n",
            "  2649827797584: TensorSpec(shape=(), dtype=tf.resource, name=None)\n",
            "  2649827797968: TensorSpec(shape=(), dtype=tf.resource, name=None)\n",
            "  2649827792208: TensorSpec(shape=(), dtype=tf.resource, name=None)\n",
            "  2649733073808: TensorSpec(shape=(), dtype=tf.resource, name=None)\n",
            "  2649827796240: TensorSpec(shape=(), dtype=tf.resource, name=None)\n",
            "  2649733072848: TensorSpec(shape=(), dtype=tf.resource, name=None)\n",
            "  2649733070928: TensorSpec(shape=(), dtype=tf.resource, name=None)\n",
            "  2649733073424: TensorSpec(shape=(), dtype=tf.resource, name=None)\n",
            "  2649733072272: TensorSpec(shape=(), dtype=tf.resource, name=None)\n",
            "  2649733072464: TensorSpec(shape=(), dtype=tf.resource, name=None)\n",
            "Saved TFLite Model: rnn_model.tflite\n"
          ]
        }
      ],
      "source": [
        "# Downsized RNN model through tfliteconverter\n",
        "\n",
        "converter = tf.lite.TFLiteConverter.from_keras_model(model_rnn4)\n",
        "\n",
        "# Enable resource variables\n",
        "converter.experimental_enable_resource_variables = True\n",
        "\n",
        "# Allow TensorFlow ops for unsupported operations\n",
        "converter.target_spec.supported_ops = [tf.lite.OpsSet.TFLITE_BUILTINS, tf.lite.OpsSet.SELECT_TF_OPS]\n",
        "\n",
        "# Disable tensor list lowering to prevent issues with TensorListReserve\n",
        "converter._experimental_lower_tensor_list_ops = False\n",
        "\n",
        "# Convert and save the model\n",
        "tflite_model = converter.convert()\n",
        "\n",
        "with open(\"rnn_model.tflite\", \"wb\") as f:\n",
        "        f.write(tflite_model)\n",
        "\n",
        "print(\"Saved TFLite Model: rnn50_model.tflite\")"
      ]
    },
    {
      "cell_type": "code",
      "execution_count": null,
      "metadata": {
        "id": "uoBxVF7hvKSa",
        "outputId": "f039b730-b2e5-42e9-ebe9-b74f25708aec"
      },
      "outputs": [
        {
          "name": "stdout",
          "output_type": "stream",
          "text": [
            "INFO:tensorflow:Assets written to: C:\\Users\\GAUTHA~1\\AppData\\Local\\Temp\\tmplo4w93pt\\assets\n"
          ]
        },
        {
          "name": "stderr",
          "output_type": "stream",
          "text": [
            "INFO:tensorflow:Assets written to: C:\\Users\\GAUTHA~1\\AppData\\Local\\Temp\\tmplo4w93pt\\assets\n"
          ]
        },
        {
          "name": "stdout",
          "output_type": "stream",
          "text": [
            "Saved artifact at 'C:\\Users\\GAUTHA~1\\AppData\\Local\\Temp\\tmplo4w93pt'. The following endpoints are available:\n",
            "\n",
            "* Endpoint 'serve'\n",
            "  args_0 (POSITIONAL_ONLY): TensorSpec(shape=(None, 50, 6), dtype=tf.float32, name='keras_tensor_15')\n",
            "Output Type:\n",
            "  TensorSpec(shape=(None, 13), dtype=tf.float32, name=None)\n",
            "Captures:\n",
            "  2649827792400: TensorSpec(shape=(), dtype=tf.resource, name=None)\n",
            "  2649827797584: TensorSpec(shape=(), dtype=tf.resource, name=None)\n",
            "  2649827797968: TensorSpec(shape=(), dtype=tf.resource, name=None)\n",
            "  2649827792208: TensorSpec(shape=(), dtype=tf.resource, name=None)\n",
            "  2649733073808: TensorSpec(shape=(), dtype=tf.resource, name=None)\n",
            "  2649827796240: TensorSpec(shape=(), dtype=tf.resource, name=None)\n",
            "  2649733072848: TensorSpec(shape=(), dtype=tf.resource, name=None)\n",
            "  2649733070928: TensorSpec(shape=(), dtype=tf.resource, name=None)\n",
            "  2649733073424: TensorSpec(shape=(), dtype=tf.resource, name=None)\n",
            "  2649733072272: TensorSpec(shape=(), dtype=tf.resource, name=None)\n",
            "  2649733072464: TensorSpec(shape=(), dtype=tf.resource, name=None)\n",
            "Saved Quantized Model: rnn_model_quantized.tflite\n"
          ]
        }
      ],
      "source": [
        "# Downsizing sameway but including Quantization\n",
        "\n",
        "def quantize_tflite_model(model, filename):\n",
        "    converter = tf.lite.TFLiteConverter.from_keras_model(model)\n",
        "    converter.optimizations = [tf.lite.Optimize.DEFAULT]  # Enable quantization\n",
        "    # Enable resource variables\n",
        "    converter.experimental_enable_resource_variables = True\n",
        "\n",
        "    # Allow TensorFlow ops for unsupported operations\n",
        "    converter.target_spec.supported_ops = [tf.lite.OpsSet.TFLITE_BUILTINS, tf.lite.OpsSet.SELECT_TF_OPS]\n",
        "\n",
        "    # Disable tensor list lowering to prevent issues with TensorListReserve\n",
        "    converter._experimental_lower_tensor_list_ops = False\n",
        "    tflite_quantized_model = converter.convert()\n",
        "\n",
        "    with open(filename, \"wb\") as f:\n",
        "        f.write(tflite_quantized_model)\n",
        "\n",
        "    print(f\"Saved Quantized Model: {filename}\")\n",
        "\n",
        "quantize_tflite_model(model_rnn4, \"rnn_model_quantized.tflite\")"
      ]
    },
    {
      "cell_type": "markdown",
      "source": [
        "> #### Downsizing LSTM and GRU"
      ],
      "metadata": {
        "id": "1kn7RizC0Y48"
      }
    },
    {
      "cell_type": "code",
      "execution_count": null,
      "metadata": {
        "id": "Rb_iglj-vKSc",
        "outputId": "d3fb0a41-3f69-47e7-ecfb-4e34a1b2feb0"
      },
      "outputs": [
        {
          "name": "stdout",
          "output_type": "stream",
          "text": [
            "INFO:tensorflow:Assets written to: C:\\Users\\GAUTHA~1\\AppData\\Local\\Temp\\tmpa09t6rjs\\assets\n"
          ]
        },
        {
          "name": "stderr",
          "output_type": "stream",
          "text": [
            "INFO:tensorflow:Assets written to: C:\\Users\\GAUTHA~1\\AppData\\Local\\Temp\\tmpa09t6rjs\\assets\n"
          ]
        },
        {
          "name": "stdout",
          "output_type": "stream",
          "text": [
            "Saved artifact at 'C:\\Users\\GAUTHA~1\\AppData\\Local\\Temp\\tmpa09t6rjs'. The following endpoints are available:\n",
            "\n",
            "* Endpoint 'serve'\n",
            "  args_0 (POSITIONAL_ONLY): TensorSpec(shape=(None, 50, 6), dtype=tf.float32, name='keras_tensor_49')\n",
            "Output Type:\n",
            "  TensorSpec(shape=(None, 13), dtype=tf.float32, name=None)\n",
            "Captures:\n",
            "  2648198688080: TensorSpec(shape=(), dtype=tf.resource, name=None)\n",
            "  2648198686352: TensorSpec(shape=(), dtype=tf.resource, name=None)\n",
            "  2648198686544: TensorSpec(shape=(), dtype=tf.resource, name=None)\n",
            "  2648198689232: TensorSpec(shape=(), dtype=tf.resource, name=None)\n",
            "  2648198689424: TensorSpec(shape=(), dtype=tf.resource, name=None)\n",
            "  2648126224144: TensorSpec(shape=(), dtype=tf.resource, name=None)\n",
            "  2648126226064: TensorSpec(shape=(), dtype=tf.resource, name=None)\n",
            "  2648126225104: TensorSpec(shape=(), dtype=tf.resource, name=None)\n",
            "  2648126222416: TensorSpec(shape=(), dtype=tf.resource, name=None)\n",
            "  2648126222800: TensorSpec(shape=(), dtype=tf.resource, name=None)\n",
            "  2648126222224: TensorSpec(shape=(), dtype=tf.resource, name=None)\n",
            "  2648126223376: TensorSpec(shape=(), dtype=tf.resource, name=None)\n",
            "  2648126221648: TensorSpec(shape=(), dtype=tf.resource, name=None)\n",
            "Saved Quantized Model: lstm50_model_quantized.tflite\n",
            "INFO:tensorflow:Assets written to: C:\\Users\\GAUTHA~1\\AppData\\Local\\Temp\\tmpwdobrtho\\assets\n"
          ]
        },
        {
          "name": "stderr",
          "output_type": "stream",
          "text": [
            "INFO:tensorflow:Assets written to: C:\\Users\\GAUTHA~1\\AppData\\Local\\Temp\\tmpwdobrtho\\assets\n"
          ]
        },
        {
          "name": "stdout",
          "output_type": "stream",
          "text": [
            "Saved artifact at 'C:\\Users\\GAUTHA~1\\AppData\\Local\\Temp\\tmpwdobrtho'. The following endpoints are available:\n",
            "\n",
            "* Endpoint 'serve'\n",
            "  args_0 (POSITIONAL_ONLY): TensorSpec(shape=(None, 50, 6), dtype=tf.float32, name='keras_tensor_58')\n",
            "Output Type:\n",
            "  TensorSpec(shape=(None, 13), dtype=tf.float32, name=None)\n",
            "Captures:\n",
            "  2648160595088: TensorSpec(shape=(), dtype=tf.resource, name=None)\n",
            "  2648160597584: TensorSpec(shape=(), dtype=tf.resource, name=None)\n",
            "  2648160586064: TensorSpec(shape=(), dtype=tf.resource, name=None)\n",
            "  2648171301008: TensorSpec(shape=(), dtype=tf.resource, name=None)\n",
            "  2648171303888: TensorSpec(shape=(), dtype=tf.resource, name=None)\n",
            "  2648171302928: TensorSpec(shape=(), dtype=tf.resource, name=None)\n",
            "  2648171301776: TensorSpec(shape=(), dtype=tf.resource, name=None)\n",
            "  2648171301968: TensorSpec(shape=(), dtype=tf.resource, name=None)\n",
            "  2648171303504: TensorSpec(shape=(), dtype=tf.resource, name=None)\n",
            "  2648171302736: TensorSpec(shape=(), dtype=tf.resource, name=None)\n",
            "  2648171300240: TensorSpec(shape=(), dtype=tf.resource, name=None)\n",
            "  2648205866576: TensorSpec(shape=(), dtype=tf.resource, name=None)\n",
            "  2648171300048: TensorSpec(shape=(), dtype=tf.resource, name=None)\n",
            "Saved Quantized Model: gru50_model_quantized.tflite\n"
          ]
        }
      ],
      "source": [
        "\n",
        "# lstm\n",
        "quantize_tflite_model(model_lstm, \"lstm50_model_quantized.tflite\")\n",
        "\n",
        "#gru\n",
        "quantize_tflite_model(model_gru, \"gru50_model_quantized.tflite\")"
      ]
    },
    {
      "cell_type": "code",
      "execution_count": null,
      "metadata": {
        "id": "R06wG9wb0IxX",
        "outputId": "fc6bffa4-440f-4f17-b9b5-0a1b6c9e64e5"
      },
      "outputs": [
        {
          "name": "stdout",
          "output_type": "stream",
          "text": [
            "INFO:tensorflow:Assets written to: C:\\Users\\GAUTHA~1\\AppData\\Local\\Temp\\tmpgyaute3e\\assets\n"
          ]
        },
        {
          "name": "stderr",
          "output_type": "stream",
          "text": [
            "INFO:tensorflow:Assets written to: C:\\Users\\GAUTHA~1\\AppData\\Local\\Temp\\tmpgyaute3e\\assets\n"
          ]
        },
        {
          "name": "stdout",
          "output_type": "stream",
          "text": [
            "Saved artifact at 'C:\\Users\\GAUTHA~1\\AppData\\Local\\Temp\\tmpgyaute3e'. The following endpoints are available:\n",
            "\n",
            "* Endpoint 'serve'\n",
            "  args_0 (POSITIONAL_ONLY): TensorSpec(shape=(None, 50, 6), dtype=tf.float32, name='keras_tensor_49')\n",
            "Output Type:\n",
            "  TensorSpec(shape=(None, 13), dtype=tf.float32, name=None)\n",
            "Captures:\n",
            "  2648198688080: TensorSpec(shape=(), dtype=tf.resource, name=None)\n",
            "  2648198686352: TensorSpec(shape=(), dtype=tf.resource, name=None)\n",
            "  2648198686544: TensorSpec(shape=(), dtype=tf.resource, name=None)\n",
            "  2648198689232: TensorSpec(shape=(), dtype=tf.resource, name=None)\n",
            "  2648198689424: TensorSpec(shape=(), dtype=tf.resource, name=None)\n",
            "  2648126224144: TensorSpec(shape=(), dtype=tf.resource, name=None)\n",
            "  2648126226064: TensorSpec(shape=(), dtype=tf.resource, name=None)\n",
            "  2648126225104: TensorSpec(shape=(), dtype=tf.resource, name=None)\n",
            "  2648126222416: TensorSpec(shape=(), dtype=tf.resource, name=None)\n",
            "  2648126222800: TensorSpec(shape=(), dtype=tf.resource, name=None)\n",
            "  2648126222224: TensorSpec(shape=(), dtype=tf.resource, name=None)\n",
            "  2648126223376: TensorSpec(shape=(), dtype=tf.resource, name=None)\n",
            "  2648126221648: TensorSpec(shape=(), dtype=tf.resource, name=None)\n",
            "Saved TFLite Model: lstm50_model_.tflite\n"
          ]
        }
      ],
      "source": [
        "# Downsized LSTM model through tfliteconverter\n",
        "\n",
        "converter = tf.lite.TFLiteConverter.from_keras_model(model_lstm)\n",
        "\n",
        "# Enable resource variables\n",
        "converter.experimental_enable_resource_variables = True\n",
        "\n",
        "# Allow TensorFlow ops for unsupported operations\n",
        "converter.target_spec.supported_ops = [tf.lite.OpsSet.TFLITE_BUILTINS, tf.lite.OpsSet.SELECT_TF_OPS]\n",
        "\n",
        "# Disable tensor list lowering to prevent issues with TensorListReserve\n",
        "converter._experimental_lower_tensor_list_ops = False\n",
        "\n",
        "# Convert and save the model\n",
        "tflite_model = converter.convert()\n",
        "\n",
        "with open(\"rnn_model.tflite\", \"wb\") as f:\n",
        "        f.write(tflite_model)\n",
        "\n",
        "print(\"Saved TFLite Model: lstm50_model_.tflite\")"
      ]
    },
    {
      "cell_type": "code",
      "execution_count": null,
      "metadata": {
        "id": "LW_NZ6Fy0IxX",
        "outputId": "382d3318-0c58-4c2e-d3a7-ee30a3b2c3a7"
      },
      "outputs": [
        {
          "name": "stdout",
          "output_type": "stream",
          "text": [
            "INFO:tensorflow:Assets written to: C:\\Users\\GAUTHA~1\\AppData\\Local\\Temp\\tmpxn7kn717\\assets\n"
          ]
        },
        {
          "name": "stderr",
          "output_type": "stream",
          "text": [
            "INFO:tensorflow:Assets written to: C:\\Users\\GAUTHA~1\\AppData\\Local\\Temp\\tmpxn7kn717\\assets\n"
          ]
        },
        {
          "name": "stdout",
          "output_type": "stream",
          "text": [
            "Saved artifact at 'C:\\Users\\GAUTHA~1\\AppData\\Local\\Temp\\tmpxn7kn717'. The following endpoints are available:\n",
            "\n",
            "* Endpoint 'serve'\n",
            "  args_0 (POSITIONAL_ONLY): TensorSpec(shape=(None, 50, 6), dtype=tf.float32, name='keras_tensor_58')\n",
            "Output Type:\n",
            "  TensorSpec(shape=(None, 13), dtype=tf.float32, name=None)\n",
            "Captures:\n",
            "  2648160595088: TensorSpec(shape=(), dtype=tf.resource, name=None)\n",
            "  2648160597584: TensorSpec(shape=(), dtype=tf.resource, name=None)\n",
            "  2648160586064: TensorSpec(shape=(), dtype=tf.resource, name=None)\n",
            "  2648171301008: TensorSpec(shape=(), dtype=tf.resource, name=None)\n",
            "  2648171303888: TensorSpec(shape=(), dtype=tf.resource, name=None)\n",
            "  2648171302928: TensorSpec(shape=(), dtype=tf.resource, name=None)\n",
            "  2648171301776: TensorSpec(shape=(), dtype=tf.resource, name=None)\n",
            "  2648171301968: TensorSpec(shape=(), dtype=tf.resource, name=None)\n",
            "  2648171303504: TensorSpec(shape=(), dtype=tf.resource, name=None)\n",
            "  2648171302736: TensorSpec(shape=(), dtype=tf.resource, name=None)\n",
            "  2648171300240: TensorSpec(shape=(), dtype=tf.resource, name=None)\n",
            "  2648205866576: TensorSpec(shape=(), dtype=tf.resource, name=None)\n",
            "  2648171300048: TensorSpec(shape=(), dtype=tf.resource, name=None)\n",
            "Saved TFLite Model: gru50_model_.tflite\n"
          ]
        }
      ],
      "source": [
        "# Downsized GRU model through tfliteconverter\n",
        "\n",
        "converter = tf.lite.TFLiteConverter.from_keras_model(model_gru)\n",
        "\n",
        "# Enable resource variables\n",
        "converter.experimental_enable_resource_variables = True\n",
        "\n",
        "# Allow TensorFlow ops for unsupported operations\n",
        "converter.target_spec.supported_ops = [tf.lite.OpsSet.TFLITE_BUILTINS, tf.lite.OpsSet.SELECT_TF_OPS]\n",
        "\n",
        "# Disable tensor list lowering to prevent issues with TensorListReserve\n",
        "converter._experimental_lower_tensor_list_ops = False\n",
        "\n",
        "# Convert and save the model\n",
        "tflite_model = converter.convert()\n",
        "\n",
        "with open(\"rnn_model.tflite\", \"wb\") as f:\n",
        "        f.write(tflite_model)\n",
        "\n",
        "print(\"Saved TFLite Model: gru50_model_.tflite\")"
      ]
    }
  ]
}